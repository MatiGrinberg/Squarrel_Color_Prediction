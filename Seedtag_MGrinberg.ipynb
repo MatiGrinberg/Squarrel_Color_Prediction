{
 "cells": [
  {
   "cell_type": "code",
   "execution_count": 1,
   "id": "93388c43-af01-4b6e-921a-e3d7f29deca8",
   "metadata": {},
   "outputs": [],
   "source": [
    "import pandas as pd\n",
    "\n",
    "# URL of the dataset (direct link to the CSV)\n",
    "url = 'https://data.cityofnewyork.us/api/views/vfnx-vebw/rows.csv?accessType=DOWNLOAD'\n",
    "\n",
    "# Load the dataset directly into a DataFrame named 'df'\n",
    "df = pd.read_csv(url)\n",
    "\n"
   ]
  },
  {
   "cell_type": "code",
   "execution_count": null,
   "id": "66f8c89b-6892-48ca-a36b-e37a3101bf03",
   "metadata": {},
   "outputs": [],
   "source": [
    "# Display the first few rows of the DataFrame\n",
    "print(df.head())\n",
    "# And the shape\n",
    "print(df.shape)"
   ]
  },
  {
   "cell_type": "code",
   "execution_count": null,
   "id": "5820b33a-c38f-4a24-8aa0-5752a3124124",
   "metadata": {},
   "outputs": [],
   "source": [
    "# know the name of the columns so i can infer what they mean\n",
    "print(df.columns.tolist())"
   ]
  },
  {
   "cell_type": "code",
   "execution_count": null,
   "id": "beaf8c7b-4264-4ced-af7f-1035e1ad0dba",
   "metadata": {},
   "outputs": [],
   "source": [
    "# which type of variables I'm working with\n",
    "print(df.dtypes)"
   ]
  },
  {
   "cell_type": "code",
   "execution_count": 2,
   "id": "d4e7251f-ce18-4523-9e90-0e55b337c093",
   "metadata": {},
   "outputs": [
    {
     "name": "stdout",
     "output_type": "stream",
     "text": [
      "Age                                  121\n",
      "Primary Fur Color                     55\n",
      "Highlight Fur Color                 1086\n",
      "Color notes                         2841\n",
      "Location                              64\n",
      "Above Ground Sighter Measurement     114\n",
      "Specific Location                   2547\n",
      "Other Activities                    2586\n",
      "Other Interactions                  2783\n",
      "dtype: int64\n"
     ]
    }
   ],
   "source": [
    "# check how many null vlaues each oclumn has\n",
    "null_counts = df.isnull().sum()\n",
    "\n",
    "# Display the counts of null values for each column\n",
    "null_cols=null_counts[null_counts > 0]\n",
    "print(null_cols)"
   ]
  },
  {
   "cell_type": "code",
   "execution_count": 5,
   "id": "bfafc712-9dac-42de-b6c7-5952494d5ff9",
   "metadata": {},
   "outputs": [
    {
     "name": "stdout",
     "output_type": "stream",
     "text": [
      "['Age', 'Highlight Fur Color', 'Color notes', 'Location', 'Above Ground Sighter Measurement', 'Specific Location', 'Other Activities', 'Other Interactions']\n",
      "(3023, 23)\n"
     ]
    }
   ],
   "source": [
    "# I could drop the rows tha thave null values, but to keep as many rows as possible so that i have as many smapels as possible/\n",
    "# compared to the amounf of features, I choose to drop the columns with null values (except the target - Prim Fur Color)\n",
    "# It's also make it easier and faster for this toy exmaple to be working with less columns\n",
    "null_col=[c for c in null_cols.index.tolist() if \"Primary\" not in c]\n",
    "print(null_col)\n",
    "df.drop(columns=null_col, axis=1,inplace=True)\n",
    "print(df.shape)"
   ]
  },
  {
   "cell_type": "code",
   "execution_count": 7,
   "id": "5d536641-d69b-4d89-822c-9dd99a716123",
   "metadata": {},
   "outputs": [
    {
     "name": "stdout",
     "output_type": "stream",
     "text": [
      "(2968, 24)\n"
     ]
    }
   ],
   "source": [
    "# now drop null rows, which should be less as they columns with many null values are gone. Actually the only column with null values is the target\n",
    "df= df.dropna(inplace=False).reset_index()\n",
    "print(df.shape)"
   ]
  },
  {
   "cell_type": "code",
   "execution_count": 9,
   "id": "ddab6c25-d803-49dc-b9c5-410b8ea9cdcb",
   "metadata": {},
   "outputs": [
    {
     "name": "stdout",
     "output_type": "stream",
     "text": [
      "Warning: 'Unique Squirrel ID' contains duplicate values.\n"
     ]
    }
   ],
   "source": [
    "# set Squirrel Id as index?\n",
    "if df['Unique Squirrel ID'].is_unique:\n",
    "    # Set 'Unique Squirrel ID' as the index\n",
    "    df.set_index('Unique Squirrel ID', inplace=True)\n",
    "    print(\"Index set to 'Unique Squirrel ID'.\")\n",
    "else:\n",
    "    print(\"Warning: 'Unique Squirrel ID' contains duplicate values.\")"
   ]
  },
  {
   "cell_type": "code",
   "execution_count": 11,
   "id": "379cbd9b-d0a2-401f-b529-33bbb557654c",
   "metadata": {},
   "outputs": [
    {
     "name": "stdout",
     "output_type": "stream",
     "text": [
      "index                                           int64\n",
      "X                                             float64\n",
      "Y                                             float64\n",
      "Unique Squirrel ID                             object\n",
      "Hectare                                        object\n",
      "Shift                                          object\n",
      "Date                                            int64\n",
      "Hectare Squirrel Number                         int64\n",
      "Primary Fur Color                              object\n",
      "Combination of Primary and Highlight Color     object\n",
      "Running                                          bool\n",
      "Chasing                                          bool\n",
      "Climbing                                         bool\n",
      "Eating                                           bool\n",
      "Foraging                                         bool\n",
      "Kuks                                             bool\n",
      "Quaas                                            bool\n",
      "Moans                                            bool\n",
      "Tail flags                                       bool\n",
      "Tail twitches                                    bool\n",
      "Approaches                                       bool\n",
      "Indifferent                                      bool\n",
      "Runs from                                        bool\n",
      "Lat/Long                                       object\n",
      "dtype: object\n"
     ]
    }
   ],
   "source": [
    "# (again) which type of variables I'm working with\n",
    "print(df.dtypes)"
   ]
  },
  {
   "cell_type": "code",
   "execution_count": 13,
   "id": "61e58cc0-61a8-4d64-91d2-71ad6be72b6b",
   "metadata": {},
   "outputs": [
    {
     "name": "stdout",
     "output_type": "stream",
     "text": [
      "   index          X          Y Unique Squirrel ID Hectare Shift      Date  \\\n",
      "0      2 -73.974281  40.775534     11B-PM-1014-08     11B    PM  10142018   \n",
      "1      3 -73.959641  40.790313     32E-PM-1017-14     32E    PM  10172018   \n",
      "2      4 -73.970268  40.776213     13E-AM-1017-05     13E    AM  10172018   \n",
      "3      5 -73.968361  40.772591     11H-AM-1010-03     11H    AM  10102018   \n",
      "4      6 -73.954120  40.793181     36H-AM-1010-02     36H    AM  10102018   \n",
      "\n",
      "   Hectare Squirrel Number Primary Fur Color  \\\n",
      "0                        8              Gray   \n",
      "1                       14              Gray   \n",
      "2                        5              Gray   \n",
      "3                        3          Cinnamon   \n",
      "4                        2              Gray   \n",
      "\n",
      "  Combination of Primary and Highlight Color  Running  Chasing  Climbing  \\\n",
      "0                                      Gray+    False     True     False   \n",
      "1                                      Gray+    False    False     False   \n",
      "2                              Gray+Cinnamon    False    False     False   \n",
      "3                             Cinnamon+White    False    False     False   \n",
      "4                                      Gray+    False    False     False   \n",
      "\n",
      "   Eating  Foraging   Kuks  Quaas  Moans  Tail flags  Tail twitches  \\\n",
      "0   False     False  False  False  False       False          False   \n",
      "1    True      True  False  False  False       False          False   \n",
      "2   False      True  False  False  False       False          False   \n",
      "3   False      True  False  False  False       False           True   \n",
      "4   False      True  False  False  False       False          False   \n",
      "\n",
      "   Approaches  Indifferent  Runs from  \\\n",
      "0       False        False      False   \n",
      "1       False        False       True   \n",
      "2       False        False      False   \n",
      "3       False         True      False   \n",
      "4       False        False      False   \n",
      "\n",
      "                                     Lat/Long  \n",
      "0  POINT (-73.97428114848522 40.775533619083)  \n",
      "1  POINT (-73.9596413903948 40.7903128889029)  \n",
      "2  POINT (-73.9702676472613 40.7762126854894)  \n",
      "3  POINT (-73.9683613516225 40.7725908847499)  \n",
      "4  POINT (-73.9541201789795 40.7931811701082)  \n"
     ]
    }
   ],
   "source": [
    "# see some of the vlaues \n",
    "pd.set_option('display.max_columns', None)\n",
    "print(df.head())"
   ]
  },
  {
   "cell_type": "code",
   "execution_count": 15,
   "id": "e765d95f-72d3-4c12-bb3b-7d17f46bc9d0",
   "metadata": {},
   "outputs": [
    {
     "name": "stdout",
     "output_type": "stream",
     "text": [
      "Index set to 'index'.\n"
     ]
    }
   ],
   "source": [
    "# set Index (columns) as index (of Df)?\n",
    "if df['index'].is_unique:\n",
    "    # Set 'Unique Squirrel ID' as the index\n",
    "    df.set_index('index', inplace=True)\n",
    "    print(\"Index set to 'index'.\")\n",
    "else:\n",
    "    print(\"Warning: 'index' contains duplicate values.\")"
   ]
  },
  {
   "cell_type": "code",
   "execution_count": 17,
   "id": "312604f6-675c-42d5-9313-9228b20de723",
   "metadata": {},
   "outputs": [],
   "source": [
    "# Combination of Primary and Highlight Color contains information about the target, the column Date was judged unnecessary, \n",
    "# if you know the Unique Squirrel ID you already know its primary color cus it's already been identified, \n",
    "# Lat/Long is already expressed in the individual columns so i drop them\n",
    "df.drop(['Combination of Primary and Highlight Color','Date','Unique Squirrel ID','Lat/Long'],axis=1,inplace=True)"
   ]
  },
  {
   "cell_type": "code",
   "execution_count": null,
   "id": "7f916d85-157b-4f48-a880-2f8c5498ecab",
   "metadata": {},
   "outputs": [],
   "source": [
    "print(df.dtypes)"
   ]
  },
  {
   "cell_type": "code",
   "execution_count": null,
   "id": "23b22da7-11b2-43f1-a730-fcd55101c189",
   "metadata": {},
   "outputs": [],
   "source": [
    "print(df)"
   ]
  },
  {
   "cell_type": "code",
   "execution_count": 19,
   "id": "ad9ee6f7-aacf-4a23-bfc1-85c987308e29",
   "metadata": {},
   "outputs": [
    {
     "name": "stdout",
     "output_type": "stream",
     "text": [
      "               X          Y  Shift  Hectare Squirrel Number Primary Fur Color  \\\n",
      "index                                                                           \n",
      "2     -73.974281  40.775534      0                        8              Gray   \n",
      "3     -73.959641  40.790313      0                       14              Gray   \n",
      "4     -73.970268  40.776213      1                        5              Gray   \n",
      "5     -73.968361  40.772591      1                        3          Cinnamon   \n",
      "6     -73.954120  40.793181      1                        2              Gray   \n",
      "...          ...        ...    ...                      ...               ...   \n",
      "3018  -73.963943  40.790868      1                        4              Gray   \n",
      "3019  -73.970402  40.782560      0                        5              Gray   \n",
      "3020  -73.966587  40.783678      0                        7              Gray   \n",
      "3021  -73.963994  40.789915      0                        2              Gray   \n",
      "3022  -73.975479  40.769640      0                        1          Cinnamon   \n",
      "\n",
      "       Running  Chasing  Climbing  Eating  Foraging  Kuks  Quaas  Moans  \\\n",
      "index                                                                     \n",
      "2            0        1         0       0         0     0      0      0   \n",
      "3            0        0         0       1         1     0      0      0   \n",
      "4            0        0         0       0         1     0      0      0   \n",
      "5            0        0         0       0         1     0      0      0   \n",
      "6            0        0         0       0         1     0      0      0   \n",
      "...        ...      ...       ...     ...       ...   ...    ...    ...   \n",
      "3018         0        0         0       1         1     0      0      0   \n",
      "3019         0        0         0       0         1     0      0      0   \n",
      "3020         0        0         0       1         1     0      0      0   \n",
      "3021         0        0         0       1         0     0      0      0   \n",
      "3022         0        0         0       1         1     0      0      0   \n",
      "\n",
      "       Tail flags  Tail twitches  Approaches  Indifferent  Runs from  \\\n",
      "index                                                                  \n",
      "2               0              0           0            0          0   \n",
      "3               0              0           0            0          1   \n",
      "4               0              0           0            0          0   \n",
      "5               0              1           0            1          0   \n",
      "6               0              0           0            0          0   \n",
      "...           ...            ...         ...          ...        ...   \n",
      "3018            0              0           0            0          1   \n",
      "3019            0              0           0            1          0   \n",
      "3020            0              0           0            1          0   \n",
      "3021            0              0           0            1          0   \n",
      "3022            0              0           1            0          0   \n",
      "\n",
      "       Hectare_Number  Hectare_Letter_B  Hectare_Letter_C  Hectare_Letter_D  \\\n",
      "index                                                                         \n",
      "2                  11                 1                 0                 0   \n",
      "3                  32                 0                 0                 0   \n",
      "4                  13                 0                 0                 0   \n",
      "5                  11                 0                 0                 0   \n",
      "6                  36                 0                 0                 0   \n",
      "...               ...               ...               ...               ...   \n",
      "3018               30                 1                 0                 0   \n",
      "3019               19                 0                 0                 0   \n",
      "3020               22                 0                 0                 1   \n",
      "3021               29                 1                 0                 0   \n",
      "3022                5                 0                 0                 0   \n",
      "\n",
      "       Hectare_Letter_E  Hectare_Letter_F  Hectare_Letter_G  Hectare_Letter_H  \\\n",
      "index                                                                           \n",
      "2                     0                 0                 0                 0   \n",
      "3                     1                 0                 0                 0   \n",
      "4                     1                 0                 0                 0   \n",
      "5                     0                 0                 0                 1   \n",
      "6                     0                 0                 0                 1   \n",
      "...                 ...               ...               ...               ...   \n",
      "3018                  0                 0                 0                 0   \n",
      "3019                  0                 0                 0                 0   \n",
      "3020                  0                 0                 0                 0   \n",
      "3021                  0                 0                 0                 0   \n",
      "3022                  1                 0                 0                 0   \n",
      "\n",
      "       Hectare_Letter_I  \n",
      "index                    \n",
      "2                     0  \n",
      "3                     0  \n",
      "4                     0  \n",
      "5                     0  \n",
      "6                     0  \n",
      "...                 ...  \n",
      "3018                  0  \n",
      "3019                  0  \n",
      "3020                  0  \n",
      "3021                  0  \n",
      "3022                  0  \n",
      "\n",
      "[2968 rows x 27 columns]\n"
     ]
    }
   ],
   "source": [
    "# 1. Convert boolean columns to integers \n",
    "bool_columns = df.select_dtypes(include=['bool']).columns\n",
    "df[bool_columns] = df[bool_columns].astype(int)\n",
    "# 2. One-hot encode the 'Shift' column\n",
    "df['Shift'] = df['Shift'].map({'AM': 1, 'PM': 0})\n",
    "# 3. Split Hectare into Letters & Numbers and then encode the Letters\n",
    "df['Hectare_Number'] = df['Hectare'].str.extract(r'(\\d+)').astype(int)  # Numeric part\n",
    "df['Hectare_Letter'] = df['Hectare'].str.extract(r'([A-Z])')  # Letter part\n",
    "df = pd.get_dummies(df, columns=['Hectare_Letter'], dtype=int, drop_first=True)\n",
    "df.drop(columns=['Hectare'], inplace=True)\n",
    "# Display the first few rows to verify changes\n",
    "print(df)"
   ]
  },
  {
   "cell_type": "code",
   "execution_count": 21,
   "id": "a110db36-8865-4c61-84cd-602d9fe12499",
   "metadata": {},
   "outputs": [],
   "source": [
    "from sklearn.preprocessing import LabelEncoder\n",
    "le = LabelEncoder()\n",
    "df['Primary Fur Color'] = le.fit_transform(df['Primary Fur Color'])"
   ]
  },
  {
   "cell_type": "code",
   "execution_count": 22,
   "id": "cad71efa-236d-4859-b2dc-059b6e2c6e2f",
   "metadata": {},
   "outputs": [
    {
     "name": "stdout",
     "output_type": "stream",
     "text": [
      "index\n",
      "2       2\n",
      "3       2\n",
      "4       2\n",
      "5       1\n",
      "6       2\n",
      "       ..\n",
      "3018    2\n",
      "3019    2\n",
      "3020    2\n",
      "3021    2\n",
      "3022    1\n",
      "Name: Primary Fur Color, Length: 2968, dtype: int64\n",
      "Primary Fur Color\n",
      "2    2473\n",
      "1     392\n",
      "0     103\n",
      "Name: count, dtype: int64\n",
      "Original label to encoded value mapping:\n",
      "{'Black': 0, 'Cinnamon': 1, 'Gray': 2}\n"
     ]
    }
   ],
   "source": [
    "print(df['Primary Fur Color'])\n",
    "print(df['Primary Fur Color'].value_counts())\n",
    "label_mapping = dict(zip(le.classes_, range(len(le.classes_))))\n",
    "print(\"Original label to encoded value mapping:\")\n",
    "print(label_mapping)"
   ]
  },
  {
   "cell_type": "code",
   "execution_count": 25,
   "id": "ac7b59f3-6839-4205-bf3e-b704c979096b",
   "metadata": {},
   "outputs": [
    {
     "name": "stdout",
     "output_type": "stream",
     "text": [
      "              X         Y  Shift  Hectare Squirrel Number  Primary Fur Color  \\\n",
      "index                                                                          \n",
      "2      0.218770  0.301721      0                 0.318182                  2   \n",
      "3      0.684458  0.721493      0                 0.590909                  2   \n",
      "4      0.346439  0.321008      1                 0.181818                  2   \n",
      "5      0.407078  0.218139      1                 0.090909                  1   \n",
      "6      0.860087  0.802960      1                 0.045455                  2   \n",
      "...         ...       ...    ...                      ...                ...   \n",
      "3018   0.547621  0.737253      1                 0.136364                  2   \n",
      "3019   0.342178  0.501290      0                 0.181818                  2   \n",
      "3020   0.463513  0.533030      0                 0.272727                  2   \n",
      "3021   0.545999  0.710199      0                 0.045455                  2   \n",
      "3022   0.180653  0.134339      0                 0.000000                  1   \n",
      "\n",
      "       Running  Chasing  Climbing  Eating  Foraging  Kuks  Quaas  Moans  \\\n",
      "index                                                                     \n",
      "2            0        1         0       0         0     0      0      0   \n",
      "3            0        0         0       1         1     0      0      0   \n",
      "4            0        0         0       0         1     0      0      0   \n",
      "5            0        0         0       0         1     0      0      0   \n",
      "6            0        0         0       0         1     0      0      0   \n",
      "...        ...      ...       ...     ...       ...   ...    ...    ...   \n",
      "3018         0        0         0       1         1     0      0      0   \n",
      "3019         0        0         0       0         1     0      0      0   \n",
      "3020         0        0         0       1         1     0      0      0   \n",
      "3021         0        0         0       1         0     0      0      0   \n",
      "3022         0        0         0       1         1     0      0      0   \n",
      "\n",
      "       Tail flags  Tail twitches  Approaches  Indifferent  Runs from  \\\n",
      "index                                                                  \n",
      "2               0              0           0            0          0   \n",
      "3               0              0           0            0          1   \n",
      "4               0              0           0            0          0   \n",
      "5               0              1           0            1          0   \n",
      "6               0              0           0            0          0   \n",
      "...           ...            ...         ...          ...        ...   \n",
      "3018            0              0           0            0          1   \n",
      "3019            0              0           0            1          0   \n",
      "3020            0              0           0            1          0   \n",
      "3021            0              0           0            1          0   \n",
      "3022            0              0           1            0          0   \n",
      "\n",
      "       Hectare_Number  Hectare_Letter_B  Hectare_Letter_C  Hectare_Letter_D  \\\n",
      "index                                                                         \n",
      "2            0.243902                 1                 0                 0   \n",
      "3            0.756098                 0                 0                 0   \n",
      "4            0.292683                 0                 0                 0   \n",
      "5            0.243902                 0                 0                 0   \n",
      "6            0.853659                 0                 0                 0   \n",
      "...               ...               ...               ...               ...   \n",
      "3018         0.707317                 1                 0                 0   \n",
      "3019         0.439024                 0                 0                 0   \n",
      "3020         0.512195                 0                 0                 1   \n",
      "3021         0.682927                 1                 0                 0   \n",
      "3022         0.097561                 0                 0                 0   \n",
      "\n",
      "       Hectare_Letter_E  Hectare_Letter_F  Hectare_Letter_G  Hectare_Letter_H  \\\n",
      "index                                                                           \n",
      "2                     0                 0                 0                 0   \n",
      "3                     1                 0                 0                 0   \n",
      "4                     1                 0                 0                 0   \n",
      "5                     0                 0                 0                 1   \n",
      "6                     0                 0                 0                 1   \n",
      "...                 ...               ...               ...               ...   \n",
      "3018                  0                 0                 0                 0   \n",
      "3019                  0                 0                 0                 0   \n",
      "3020                  0                 0                 0                 0   \n",
      "3021                  0                 0                 0                 0   \n",
      "3022                  1                 0                 0                 0   \n",
      "\n",
      "       Hectare_Letter_I  \n",
      "index                    \n",
      "2                     0  \n",
      "3                     0  \n",
      "4                     0  \n",
      "5                     0  \n",
      "6                     0  \n",
      "...                 ...  \n",
      "3018                  0  \n",
      "3019                  0  \n",
      "3020                  0  \n",
      "3021                  0  \n",
      "3022                  0  \n",
      "\n",
      "[2968 rows x 27 columns]\n"
     ]
    }
   ],
   "source": [
    "# Scale variables left so they're in the same scale as the others (between 0 and 1)\n",
    "from sklearn.preprocessing import MinMaxScaler\n",
    "# Initialize the MinMaxScaler\n",
    "scaler = MinMaxScaler()\n",
    "# List of columns to scale\n",
    "var_scaled = ['Hectare_Number', 'X', 'Y', 'Hectare Squirrel Number']\n",
    "# Apply scaling and update the DataFrame with the scaled values\n",
    "df[var_scaled] = scaler.fit_transform(df[var_scaled])\n",
    "print(df)"
   ]
  },
  {
   "cell_type": "code",
   "execution_count": 27,
   "id": "fb56df85-3219-4965-b1b8-6c0ca1fe63c7",
   "metadata": {},
   "outputs": [
    {
     "name": "stdout",
     "output_type": "stream",
     "text": [
      "Requirement already satisfied: imbalanced-learn in /opt/anaconda3/lib/python3.12/site-packages (0.12.3)\n",
      "Requirement already satisfied: numpy>=1.17.3 in /opt/anaconda3/lib/python3.12/site-packages (from imbalanced-learn) (1.26.4)\n",
      "Requirement already satisfied: scipy>=1.5.0 in /opt/anaconda3/lib/python3.12/site-packages (from imbalanced-learn) (1.13.1)\n",
      "Requirement already satisfied: scikit-learn>=1.0.2 in /opt/anaconda3/lib/python3.12/site-packages (from imbalanced-learn) (1.4.2)\n",
      "Requirement already satisfied: joblib>=1.1.1 in /opt/anaconda3/lib/python3.12/site-packages (from imbalanced-learn) (1.4.2)\n",
      "Requirement already satisfied: threadpoolctl>=2.0.0 in /opt/anaconda3/lib/python3.12/site-packages (from imbalanced-learn) (2.2.0)\n",
      "Requirement already satisfied: xgboost in /opt/anaconda3/lib/python3.12/site-packages (2.1.1)\n",
      "Requirement already satisfied: numpy in /opt/anaconda3/lib/python3.12/site-packages (from xgboost) (1.26.4)\n",
      "Requirement already satisfied: scipy in /opt/anaconda3/lib/python3.12/site-packages (from xgboost) (1.13.1)\n",
      "Requirement already satisfied: tensorflow in /opt/anaconda3/lib/python3.12/site-packages (2.16.2)\n",
      "Requirement already satisfied: absl-py>=1.0.0 in /opt/anaconda3/lib/python3.12/site-packages (from tensorflow) (2.1.0)\n",
      "Requirement already satisfied: astunparse>=1.6.0 in /opt/anaconda3/lib/python3.12/site-packages (from tensorflow) (1.6.3)\n",
      "Requirement already satisfied: flatbuffers>=23.5.26 in /opt/anaconda3/lib/python3.12/site-packages (from tensorflow) (24.3.25)\n",
      "Requirement already satisfied: gast!=0.5.0,!=0.5.1,!=0.5.2,>=0.2.1 in /opt/anaconda3/lib/python3.12/site-packages (from tensorflow) (0.6.0)\n",
      "Requirement already satisfied: google-pasta>=0.1.1 in /opt/anaconda3/lib/python3.12/site-packages (from tensorflow) (0.2.0)\n",
      "Requirement already satisfied: h5py>=3.10.0 in /opt/anaconda3/lib/python3.12/site-packages (from tensorflow) (3.11.0)\n",
      "Requirement already satisfied: libclang>=13.0.0 in /opt/anaconda3/lib/python3.12/site-packages (from tensorflow) (18.1.1)\n",
      "Requirement already satisfied: ml-dtypes~=0.3.1 in /opt/anaconda3/lib/python3.12/site-packages (from tensorflow) (0.3.2)\n",
      "Requirement already satisfied: opt-einsum>=2.3.2 in /opt/anaconda3/lib/python3.12/site-packages (from tensorflow) (3.3.0)\n",
      "Requirement already satisfied: packaging in /opt/anaconda3/lib/python3.12/site-packages (from tensorflow) (23.2)\n",
      "Requirement already satisfied: protobuf!=4.21.0,!=4.21.1,!=4.21.2,!=4.21.3,!=4.21.4,!=4.21.5,<5.0.0dev,>=3.20.3 in /opt/anaconda3/lib/python3.12/site-packages (from tensorflow) (3.20.3)\n",
      "Requirement already satisfied: requests<3,>=2.21.0 in /opt/anaconda3/lib/python3.12/site-packages (from tensorflow) (2.32.2)\n",
      "Requirement already satisfied: setuptools in /opt/anaconda3/lib/python3.12/site-packages (from tensorflow) (69.5.1)\n",
      "Requirement already satisfied: six>=1.12.0 in /opt/anaconda3/lib/python3.12/site-packages (from tensorflow) (1.16.0)\n",
      "Requirement already satisfied: termcolor>=1.1.0 in /opt/anaconda3/lib/python3.12/site-packages (from tensorflow) (2.4.0)\n",
      "Requirement already satisfied: typing-extensions>=3.6.6 in /opt/anaconda3/lib/python3.12/site-packages (from tensorflow) (4.11.0)\n",
      "Requirement already satisfied: wrapt>=1.11.0 in /opt/anaconda3/lib/python3.12/site-packages (from tensorflow) (1.14.1)\n",
      "Requirement already satisfied: grpcio<2.0,>=1.24.3 in /opt/anaconda3/lib/python3.12/site-packages (from tensorflow) (1.66.1)\n",
      "Requirement already satisfied: tensorboard<2.17,>=2.16 in /opt/anaconda3/lib/python3.12/site-packages (from tensorflow) (2.16.2)\n",
      "Requirement already satisfied: keras>=3.0.0 in /opt/anaconda3/lib/python3.12/site-packages (from tensorflow) (3.5.0)\n",
      "Requirement already satisfied: numpy<2.0.0,>=1.26.0 in /opt/anaconda3/lib/python3.12/site-packages (from tensorflow) (1.26.4)\n",
      "Requirement already satisfied: wheel<1.0,>=0.23.0 in /opt/anaconda3/lib/python3.12/site-packages (from astunparse>=1.6.0->tensorflow) (0.43.0)\n",
      "Requirement already satisfied: rich in /opt/anaconda3/lib/python3.12/site-packages (from keras>=3.0.0->tensorflow) (13.3.5)\n",
      "Requirement already satisfied: namex in /opt/anaconda3/lib/python3.12/site-packages (from keras>=3.0.0->tensorflow) (0.0.8)\n",
      "Requirement already satisfied: optree in /opt/anaconda3/lib/python3.12/site-packages (from keras>=3.0.0->tensorflow) (0.12.1)\n",
      "Requirement already satisfied: charset-normalizer<4,>=2 in /opt/anaconda3/lib/python3.12/site-packages (from requests<3,>=2.21.0->tensorflow) (2.0.4)\n",
      "Requirement already satisfied: idna<4,>=2.5 in /opt/anaconda3/lib/python3.12/site-packages (from requests<3,>=2.21.0->tensorflow) (3.7)\n",
      "Requirement already satisfied: urllib3<3,>=1.21.1 in /opt/anaconda3/lib/python3.12/site-packages (from requests<3,>=2.21.0->tensorflow) (2.2.2)\n",
      "Requirement already satisfied: certifi>=2017.4.17 in /opt/anaconda3/lib/python3.12/site-packages (from requests<3,>=2.21.0->tensorflow) (2024.8.30)\n",
      "Requirement already satisfied: markdown>=2.6.8 in /opt/anaconda3/lib/python3.12/site-packages (from tensorboard<2.17,>=2.16->tensorflow) (3.4.1)\n",
      "Requirement already satisfied: tensorboard-data-server<0.8.0,>=0.7.0 in /opt/anaconda3/lib/python3.12/site-packages (from tensorboard<2.17,>=2.16->tensorflow) (0.7.2)\n",
      "Requirement already satisfied: werkzeug>=1.0.1 in /opt/anaconda3/lib/python3.12/site-packages (from tensorboard<2.17,>=2.16->tensorflow) (3.0.3)\n",
      "Requirement already satisfied: MarkupSafe>=2.1.1 in /opt/anaconda3/lib/python3.12/site-packages (from werkzeug>=1.0.1->tensorboard<2.17,>=2.16->tensorflow) (2.1.3)\n",
      "Requirement already satisfied: markdown-it-py<3.0.0,>=2.2.0 in /opt/anaconda3/lib/python3.12/site-packages (from rich->keras>=3.0.0->tensorflow) (2.2.0)\n",
      "Requirement already satisfied: pygments<3.0.0,>=2.13.0 in /opt/anaconda3/lib/python3.12/site-packages (from rich->keras>=3.0.0->tensorflow) (2.15.1)\n",
      "Requirement already satisfied: mdurl~=0.1 in /opt/anaconda3/lib/python3.12/site-packages (from markdown-it-py<3.0.0,>=2.2.0->rich->keras>=3.0.0->tensorflow) (0.1.0)\n"
     ]
    },
    {
     "name": "stderr",
     "output_type": "stream",
     "text": [
      "2024-09-22 15:27:21.226741: I tensorflow/core/platform/cpu_feature_guard.cc:210] This TensorFlow binary is optimized to use available CPU instructions in performance-critical operations.\n",
      "To enable the following instructions: AVX2 FMA, in other operations, rebuild TensorFlow with the appropriate compiler flags.\n"
     ]
    }
   ],
   "source": [
    "# Import necessary libraries\n",
    "!pip install imbalanced-learn\n",
    "!pip install xgboost\n",
    "!pip install tensorflow\n",
    "from tensorflow import keras\n",
    "from tensorflow.keras import layers\n",
    "from xgboost import XGBClassifier\n",
    "from imblearn.over_sampling import RandomOverSampler\n",
    "from imblearn.under_sampling import RandomUnderSampler\n",
    "from sklearn.model_selection import train_test_split\n",
    "from sklearn.linear_model import LogisticRegression\n",
    "from sklearn.metrics import classification_report, accuracy_score\n",
    "from sklearn.tree import DecisionTreeClassifier\n",
    "from sklearn.metrics import confusion_matrix, ConfusionMatrixDisplay\n",
    "from sklearn.utils import class_weight\n",
    "import matplotlib.pyplot as plt\n",
    "import numpy as np\n",
    "\n",
    "# Step 1: Split the data into features (X) and target (y)\n",
    "X = df.drop(columns=['Primary Fur Color'])  # Features\n",
    "y = df['Primary Fur Color']  # Target (Label)\n",
    "\n",
    "# Step 2: Split the dataset into training and testing sets (80% train, 20% test)\n",
    "X_train, X_test, y_train, y_test = train_test_split(X, y, test_size=0.2, random_state=42)\n"
   ]
  },
  {
   "cell_type": "code",
   "execution_count": 28,
   "id": "a7b67607-1cc0-4834-97b2-5f5dc7c71abd",
   "metadata": {},
   "outputs": [
    {
     "name": "stdout",
     "output_type": "stream",
     "text": [
      "Accuracy: 0.8232323232323232\n"
     ]
    },
    {
     "data": {
      "image/png": "[encoded data removed]",
      "text/plain": [
       "<Figure size 640x480 with 2 Axes>"
      ]
     },
     "metadata": {},
     "output_type": "display_data"
    }
   ],
   "source": [
    "# Initialize the model\n",
    "classifier = XGBClassifier(random_state=42, eval_metric='mlogloss')\n",
    "\n",
    "# Train the model\n",
    "classifier.fit(X_train, y_train)\n",
    "\n",
    "# Predict on test data\n",
    "y_pred = classifier.predict(X_test)\n",
    "\n",
    "# Evaluate the model\n",
    "print(f\"Accuracy: {accuracy_score(y_test, y_pred)}\")\n",
    "# Display the confusion matrix\n",
    "cm = confusion_matrix(y_test, y_pred)\n",
    "disp = ConfusionMatrixDisplay(confusion_matrix=cm, display_labels=classifier.classes_)\n",
    "disp.plot(cmap=plt.cm.Blues)\n",
    "plt.show()"
   ]
  },
  {
   "cell_type": "code",
   "execution_count": 29,
   "id": "cbc6b93c-988a-4c16-b723-c92cb1d801c9",
   "metadata": {},
   "outputs": [
    {
     "name": "stderr",
     "output_type": "stream",
     "text": [
      "/opt/anaconda3/lib/python3.12/site-packages/keras/src/layers/core/dense.py:87: UserWarning: Do not pass an `input_shape`/`input_dim` argument to a layer. When using Sequential models, prefer using an `Input(shape)` object as the first layer in the model instead.\n",
      "  super().__init__(activity_regularizer=activity_regularizer, **kwargs)\n"
     ]
    },
    {
     "name": "stdout",
     "output_type": "stream",
     "text": [
      "Epoch 1/50\n",
      "\u001b[1m75/75\u001b[0m \u001b[32m━━━━━━━━━━━━━━━━━━━━\u001b[0m\u001b[37m\u001b[0m \u001b[1m2s\u001b[0m 2ms/step - accuracy: 0.8243 - loss: 0.6588\n",
      "Epoch 2/50\n",
      "\u001b[1m75/75\u001b[0m \u001b[32m━━━━━━━━━━━━━━━━━━━━\u001b[0m\u001b[37m\u001b[0m \u001b[1m0s\u001b[0m 2ms/step - accuracy: 0.8384 - loss: 0.5107\n",
      "Epoch 3/50\n",
      "\u001b[1m75/75\u001b[0m \u001b[32m━━━━━━━━━━━━━━━━━━━━\u001b[0m\u001b[37m\u001b[0m \u001b[1m0s\u001b[0m 2ms/step - accuracy: 0.8410 - loss: 0.5020\n",
      "Epoch 4/50\n",
      "\u001b[1m75/75\u001b[0m \u001b[32m━━━━━━━━━━━━━━━━━━━━\u001b[0m\u001b[37m\u001b[0m \u001b[1m0s\u001b[0m 2ms/step - accuracy: 0.8342 - loss: 0.5004\n",
      "Epoch 5/50\n",
      "\u001b[1m75/75\u001b[0m \u001b[32m━━━━━━━━━━━━━━━━━━━━\u001b[0m\u001b[37m\u001b[0m \u001b[1m0s\u001b[0m 2ms/step - accuracy: 0.8344 - loss: 0.4974\n",
      "Epoch 6/50\n",
      "\u001b[1m75/75\u001b[0m \u001b[32m━━━━━━━━━━━━━━━━━━━━\u001b[0m\u001b[37m\u001b[0m \u001b[1m0s\u001b[0m 2ms/step - accuracy: 0.8387 - loss: 0.4813\n",
      "Epoch 7/50\n",
      "\u001b[1m75/75\u001b[0m \u001b[32m━━━━━━━━━━━━━━━━━━━━\u001b[0m\u001b[37m\u001b[0m \u001b[1m0s\u001b[0m 2ms/step - accuracy: 0.8457 - loss: 0.4596\n",
      "Epoch 8/50\n",
      "\u001b[1m75/75\u001b[0m \u001b[32m━━━━━━━━━━━━━━━━━━━━\u001b[0m\u001b[37m\u001b[0m \u001b[1m0s\u001b[0m 4ms/step - accuracy: 0.8382 - loss: 0.4660\n",
      "Epoch 9/50\n",
      "\u001b[1m75/75\u001b[0m \u001b[32m━━━━━━━━━━━━━━━━━━━━\u001b[0m\u001b[37m\u001b[0m \u001b[1m0s\u001b[0m 2ms/step - accuracy: 0.8320 - loss: 0.4758\n",
      "Epoch 10/50\n",
      "\u001b[1m75/75\u001b[0m \u001b[32m━━━━━━━━━━━━━━━━━━━━\u001b[0m\u001b[37m\u001b[0m \u001b[1m0s\u001b[0m 2ms/step - accuracy: 0.8434 - loss: 0.4292\n",
      "Epoch 11/50\n",
      "\u001b[1m75/75\u001b[0m \u001b[32m━━━━━━━━━━━━━━━━━━━━\u001b[0m\u001b[37m\u001b[0m \u001b[1m0s\u001b[0m 2ms/step - accuracy: 0.8447 - loss: 0.4253\n",
      "Epoch 12/50\n",
      "\u001b[1m75/75\u001b[0m \u001b[32m━━━━━━━━━━━━━━━━━━━━\u001b[0m\u001b[37m\u001b[0m \u001b[1m0s\u001b[0m 3ms/step - accuracy: 0.8453 - loss: 0.4281\n",
      "Epoch 13/50\n",
      "\u001b[1m75/75\u001b[0m \u001b[32m━━━━━━━━━━━━━━━━━━━━\u001b[0m\u001b[37m\u001b[0m \u001b[1m0s\u001b[0m 2ms/step - accuracy: 0.8390 - loss: 0.4181\n",
      "Epoch 14/50\n",
      "\u001b[1m75/75\u001b[0m \u001b[32m━━━━━━━━━━━━━━━━━━━━\u001b[0m\u001b[37m\u001b[0m \u001b[1m0s\u001b[0m 2ms/step - accuracy: 0.8525 - loss: 0.3986\n",
      "Epoch 15/50\n",
      "\u001b[1m75/75\u001b[0m \u001b[32m━━━━━━━━━━━━━━━━━━━━\u001b[0m\u001b[37m\u001b[0m \u001b[1m0s\u001b[0m 2ms/step - accuracy: 0.8604 - loss: 0.3871\n",
      "Epoch 16/50\n",
      "\u001b[1m75/75\u001b[0m \u001b[32m━━━━━━━━━━━━━━━━━━━━\u001b[0m\u001b[37m\u001b[0m \u001b[1m0s\u001b[0m 2ms/step - accuracy: 0.8596 - loss: 0.3910\n",
      "Epoch 17/50\n",
      "\u001b[1m75/75\u001b[0m \u001b[32m━━━━━━━━━━━━━━━━━━━━\u001b[0m\u001b[37m\u001b[0m \u001b[1m0s\u001b[0m 3ms/step - accuracy: 0.8583 - loss: 0.3798\n",
      "Epoch 18/50\n",
      "\u001b[1m75/75\u001b[0m \u001b[32m━━━━━━━━━━━━━━━━━━━━\u001b[0m\u001b[37m\u001b[0m \u001b[1m0s\u001b[0m 5ms/step - accuracy: 0.8569 - loss: 0.3820\n",
      "Epoch 19/50\n",
      "\u001b[1m75/75\u001b[0m \u001b[32m━━━━━━━━━━━━━━━━━━━━\u001b[0m\u001b[37m\u001b[0m \u001b[1m0s\u001b[0m 2ms/step - accuracy: 0.8621 - loss: 0.3706\n",
      "Epoch 20/50\n",
      "\u001b[1m75/75\u001b[0m \u001b[32m━━━━━━━━━━━━━━━━━━━━\u001b[0m\u001b[37m\u001b[0m \u001b[1m0s\u001b[0m 2ms/step - accuracy: 0.8623 - loss: 0.3670\n",
      "Epoch 21/50\n",
      "\u001b[1m75/75\u001b[0m \u001b[32m━━━━━━━━━━━━━━━━━━━━\u001b[0m\u001b[37m\u001b[0m \u001b[1m0s\u001b[0m 3ms/step - accuracy: 0.8658 - loss: 0.3415\n",
      "Epoch 22/50\n",
      "\u001b[1m75/75\u001b[0m \u001b[32m━━━━━━━━━━━━━━━━━━━━\u001b[0m\u001b[37m\u001b[0m \u001b[1m0s\u001b[0m 2ms/step - accuracy: 0.8814 - loss: 0.3196\n",
      "Epoch 23/50\n",
      "\u001b[1m75/75\u001b[0m \u001b[32m━━━━━━━━━━━━━━━━━━━━\u001b[0m\u001b[37m\u001b[0m \u001b[1m0s\u001b[0m 4ms/step - accuracy: 0.8698 - loss: 0.3381\n",
      "Epoch 24/50\n",
      "\u001b[1m75/75\u001b[0m \u001b[32m━━━━━━━━━━━━━━━━━━━━\u001b[0m\u001b[37m\u001b[0m \u001b[1m0s\u001b[0m 3ms/step - accuracy: 0.8738 - loss: 0.3341\n",
      "Epoch 25/50\n",
      "\u001b[1m75/75\u001b[0m \u001b[32m━━━━━━━━━━━━━━━━━━━━\u001b[0m\u001b[37m\u001b[0m \u001b[1m0s\u001b[0m 3ms/step - accuracy: 0.8772 - loss: 0.3349\n",
      "Epoch 26/50\n",
      "\u001b[1m75/75\u001b[0m \u001b[32m━━━━━━━━━━━━━━━━━━━━\u001b[0m\u001b[37m\u001b[0m \u001b[1m0s\u001b[0m 3ms/step - accuracy: 0.8865 - loss: 0.3175\n",
      "Epoch 27/50\n",
      "\u001b[1m75/75\u001b[0m \u001b[32m━━━━━━━━━━━━━━━━━━━━\u001b[0m\u001b[37m\u001b[0m \u001b[1m0s\u001b[0m 4ms/step - accuracy: 0.8844 - loss: 0.3141\n",
      "Epoch 28/50\n",
      "\u001b[1m75/75\u001b[0m \u001b[32m━━━━━━━━━━━━━━━━━━━━\u001b[0m\u001b[37m\u001b[0m \u001b[1m0s\u001b[0m 3ms/step - accuracy: 0.8910 - loss: 0.2903\n",
      "Epoch 29/50\n",
      "\u001b[1m75/75\u001b[0m \u001b[32m━━━━━━━━━━━━━━━━━━━━\u001b[0m\u001b[37m\u001b[0m \u001b[1m0s\u001b[0m 3ms/step - accuracy: 0.8859 - loss: 0.2884\n",
      "Epoch 30/50\n",
      "\u001b[1m75/75\u001b[0m \u001b[32m━━━━━━━━━━━━━━━━━━━━\u001b[0m\u001b[37m\u001b[0m \u001b[1m0s\u001b[0m 3ms/step - accuracy: 0.8857 - loss: 0.2983\n",
      "Epoch 31/50\n",
      "\u001b[1m75/75\u001b[0m \u001b[32m━━━━━━━━━━━━━━━━━━━━\u001b[0m\u001b[37m\u001b[0m \u001b[1m0s\u001b[0m 3ms/step - accuracy: 0.8990 - loss: 0.2694\n",
      "Epoch 32/50\n",
      "\u001b[1m75/75\u001b[0m \u001b[32m━━━━━━━━━━━━━━━━━━━━\u001b[0m\u001b[37m\u001b[0m \u001b[1m0s\u001b[0m 5ms/step - accuracy: 0.8983 - loss: 0.2736\n",
      "Epoch 33/50\n",
      "\u001b[1m75/75\u001b[0m \u001b[32m━━━━━━━━━━━━━━━━━━━━\u001b[0m\u001b[37m\u001b[0m \u001b[1m0s\u001b[0m 3ms/step - accuracy: 0.8968 - loss: 0.2589\n",
      "Epoch 34/50\n",
      "\u001b[1m75/75\u001b[0m \u001b[32m━━━━━━━━━━━━━━━━━━━━\u001b[0m\u001b[37m\u001b[0m \u001b[1m0s\u001b[0m 3ms/step - accuracy: 0.9040 - loss: 0.2510\n",
      "Epoch 35/50\n",
      "\u001b[1m75/75\u001b[0m \u001b[32m━━━━━━━━━━━━━━━━━━━━\u001b[0m\u001b[37m\u001b[0m \u001b[1m0s\u001b[0m 3ms/step - accuracy: 0.9042 - loss: 0.2477\n",
      "Epoch 36/50\n",
      "\u001b[1m75/75\u001b[0m \u001b[32m━━━━━━━━━━━━━━━━━━━━\u001b[0m\u001b[37m\u001b[0m \u001b[1m0s\u001b[0m 3ms/step - accuracy: 0.9039 - loss: 0.2512\n",
      "Epoch 37/50\n",
      "\u001b[1m75/75\u001b[0m \u001b[32m━━━━━━━━━━━━━━━━━━━━\u001b[0m\u001b[37m\u001b[0m \u001b[1m0s\u001b[0m 2ms/step - accuracy: 0.9036 - loss: 0.2479\n",
      "Epoch 38/50\n",
      "\u001b[1m75/75\u001b[0m \u001b[32m━━━━━━━━━━━━━━━━━━━━\u001b[0m\u001b[37m\u001b[0m \u001b[1m0s\u001b[0m 2ms/step - accuracy: 0.9066 - loss: 0.2400\n",
      "Epoch 39/50\n",
      "\u001b[1m75/75\u001b[0m \u001b[32m━━━━━━━━━━━━━━━━━━━━\u001b[0m\u001b[37m\u001b[0m \u001b[1m0s\u001b[0m 2ms/step - accuracy: 0.9067 - loss: 0.2420\n",
      "Epoch 40/50\n",
      "\u001b[1m75/75\u001b[0m \u001b[32m━━━━━━━━━━━━━━━━━━━━\u001b[0m\u001b[37m\u001b[0m \u001b[1m0s\u001b[0m 2ms/step - accuracy: 0.9097 - loss: 0.2369\n",
      "Epoch 41/50\n",
      "\u001b[1m75/75\u001b[0m \u001b[32m━━━━━━━━━━━━━━━━━━━━\u001b[0m\u001b[37m\u001b[0m \u001b[1m0s\u001b[0m 2ms/step - accuracy: 0.9082 - loss: 0.2232\n",
      "Epoch 42/50\n",
      "\u001b[1m75/75\u001b[0m \u001b[32m━━━━━━━━━━━━━━━━━━━━\u001b[0m\u001b[37m\u001b[0m \u001b[1m0s\u001b[0m 2ms/step - accuracy: 0.9090 - loss: 0.2257\n",
      "Epoch 43/50\n",
      "\u001b[1m75/75\u001b[0m \u001b[32m━━━━━━━━━━━━━━━━━━━━\u001b[0m\u001b[37m\u001b[0m \u001b[1m0s\u001b[0m 2ms/step - accuracy: 0.8996 - loss: 0.2466\n",
      "Epoch 44/50\n",
      "\u001b[1m75/75\u001b[0m \u001b[32m━━━━━━━━━━━━━━━━━━━━\u001b[0m\u001b[37m\u001b[0m \u001b[1m0s\u001b[0m 2ms/step - accuracy: 0.9179 - loss: 0.2255\n",
      "Epoch 45/50\n",
      "\u001b[1m75/75\u001b[0m \u001b[32m━━━━━━━━━━━━━━━━━━━━\u001b[0m\u001b[37m\u001b[0m \u001b[1m0s\u001b[0m 2ms/step - accuracy: 0.9128 - loss: 0.2245\n",
      "Epoch 46/50\n",
      "\u001b[1m75/75\u001b[0m \u001b[32m━━━━━━━━━━━━━━━━━━━━\u001b[0m\u001b[37m\u001b[0m \u001b[1m0s\u001b[0m 5ms/step - accuracy: 0.9270 - loss: 0.2000\n",
      "Epoch 47/50\n",
      "\u001b[1m75/75\u001b[0m \u001b[32m━━━━━━━━━━━━━━━━━━━━\u001b[0m\u001b[37m\u001b[0m \u001b[1m0s\u001b[0m 3ms/step - accuracy: 0.9261 - loss: 0.2128\n",
      "Epoch 48/50\n",
      "\u001b[1m75/75\u001b[0m \u001b[32m━━━━━━━━━━━━━━━━━━━━\u001b[0m\u001b[37m\u001b[0m \u001b[1m0s\u001b[0m 2ms/step - accuracy: 0.9260 - loss: 0.2014\n",
      "Epoch 49/50\n",
      "\u001b[1m75/75\u001b[0m \u001b[32m━━━━━━━━━━━━━━━━━━━━\u001b[0m\u001b[37m\u001b[0m \u001b[1m0s\u001b[0m 2ms/step - accuracy: 0.9199 - loss: 0.2070\n",
      "Epoch 50/50\n",
      "\u001b[1m75/75\u001b[0m \u001b[32m━━━━━━━━━━━━━━━━━━━━\u001b[0m\u001b[37m\u001b[0m \u001b[1m0s\u001b[0m 3ms/step - accuracy: 0.9184 - loss: 0.2107\n",
      "finished\n"
     ]
    }
   ],
   "source": [
    "model = keras.Sequential([\n",
    "    layers.Dense(128, activation='relu', input_shape=(X_train.shape[1],)),\n",
    "    layers.Dense(64, activation='relu'),\n",
    "    layers.Dense(3, activation='softmax')  # Output layer for 3 classes\n",
    "])\n",
    "\n",
    "# Compile the model\n",
    "model.compile(optimizer='adam', \n",
    "              loss='sparse_categorical_crossentropy',  # Use sparse_categorical_crossentropy\n",
    "              metrics=['accuracy'])\n",
    "\n",
    "# Train the model\n",
    "model.fit(X_train, y_train, epochs=50, batch_size=32)\n",
    "print('finished')"
   ]
  },
  {
   "cell_type": "code",
   "execution_count": 33,
   "id": "79f4c2ce-2005-436d-84c7-6f94187714a2",
   "metadata": {},
   "outputs": [
    {
     "name": "stdout",
     "output_type": "stream",
     "text": [
      "<Sequential name=sequential, built=True>\n"
     ]
    }
   ],
   "source": [
    "print(model)"
   ]
  },
  {
   "cell_type": "code",
   "execution_count": 43,
   "id": "16e1385d-c381-43f8-8b36-2f00aa5aabf7",
   "metadata": {},
   "outputs": [
    {
     "name": "stdout",
     "output_type": "stream",
     "text": [
      "\u001b[1m19/19\u001b[0m \u001b[32m━━━━━━━━━━━━━━━━━━━━\u001b[0m\u001b[37m\u001b[0m \u001b[1m0s\u001b[0m 2ms/step \n",
      "Accuracy: 0.7811\n"
     ]
    },
    {
     "data": {
      "image/png": "[encoded data removed]",
      "text/plain": [
       "<Figure size 640x480 with 2 Axes>"
      ]
     },
     "metadata": {},
     "output_type": "display_data"
    }
   ],
   "source": [
    "# Make predictions on the test set\n",
    "y_pred = np.argmax(model.predict(X_test), axis=-1)\n",
    "\n",
    "# Calculate accuracy\n",
    "accuracy = accuracy_score(y_test, y_pred)\n",
    "print(f\"Accuracy: {accuracy:.4f}\")\n",
    "\n",
    "# Generate and display the confusion matrix\n",
    "cm = confusion_matrix(y_test, y_pred)\n",
    "\n",
    "# Get unique classes from the target variable\n",
    "classes = np.unique(y)\n",
    "\n",
    "disp = ConfusionMatrixDisplay(confusion_matrix=cm, display_labels=classes)\n",
    "disp.plot(cmap=plt.cm.Blues)\n",
    "plt.title(\"Confusion Matrix\")\n",
    "plt.show()\n"
   ]
  },
  {
   "cell_type": "code",
   "execution_count": null,
   "id": "f8369689-b7fb-47e3-ae3e-0a649aba502f",
   "metadata": {},
   "outputs": [],
   "source": []
  },
  {
   "cell_type": "code",
   "execution_count": null,
   "id": "a0f8f50a-a16e-456f-ace6-555f79e73e3c",
   "metadata": {},
   "outputs": [],
   "source": []
  },
  {
   "cell_type": "code",
   "execution_count": null,
   "id": "bd9e15ef-f92e-4642-825f-3ffc27d7cfb4",
   "metadata": {},
   "outputs": [],
   "source": []
  },
  {
   "cell_type": "code",
   "execution_count": null,
   "id": "544d2a31-caf3-49a8-8401-823148892c02",
   "metadata": {},
   "outputs": [],
   "source": []
  },
  {
   "cell_type": "code",
   "execution_count": null,
   "id": "ace11eb4-ce4f-422a-ba89-a98014733e18",
   "metadata": {},
   "outputs": [],
   "source": []
  },
  {
   "cell_type": "code",
   "execution_count": null,
   "id": "f7b6600b-ea86-4ce4-9bca-279ff0b81474",
   "metadata": {},
   "outputs": [],
   "source": []
  },
  {
   "cell_type": "code",
   "execution_count": null,
   "id": "4cd433ba-9992-46a2-b9ce-ce3a66f62a42",
   "metadata": {},
   "outputs": [],
   "source": []
  }
 ],
 "metadata": {
  "kernelspec": {
   "display_name": "Python 3 (ipykernel)",
   "language": "python",
   "name": "python3"
  },
  "language_info": {
   "codemirror_mode": {
    "name": "ipython",
    "version": 3
   },
   "file_extension": ".py",
   "mimetype": "text/x-python",
   "name": "python",
   "nbconvert_exporter": "python",
   "pygments_lexer": "ipython3",
   "version": "3.12.4"
  }
 },
 "nbformat": 4,
 "nbformat_minor": 5
}
